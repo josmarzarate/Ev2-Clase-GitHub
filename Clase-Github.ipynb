{
  "metadata": {
    "language_info": {
      "codemirror_mode": {
        "name": "python",
        "version": 3
      },
      "file_extension": ".py",
      "mimetype": "text/x-python",
      "name": "python",
      "nbconvert_exporter": "python",
      "pygments_lexer": "ipython3",
      "version": "3.8"
    },
    "kernelspec": {
      "name": "python",
      "display_name": "Python (Pyodide)",
      "language": "python"
    }
  },
  "nbformat_minor": 4,
  "nbformat": 4,
  "cells": [
    {
      "cell_type": "code",
      "source": "import random\nimport string\n\n#Se inicia la clase\n\nclass GeneradorContraseñas:\n    def __init__(self, longitud=12, incluir_mayusculas=True, incluir_minusculas=True, incluir_numeros=True, incluir_simbolos=True):\n        \"\"\"\n        Constructor de la clase GeneradorContraseñas.\n\n        Parameters:\n        - longitud (int): Longitud de la contraseña (por defecto 12).\n        - incluir_mayusculas (bool): Incluir letras mayúsculas (por defecto True).\n        - incluir_minusculas (bool): Incluir letras minúsculas (por defecto True).\n        - incluir_numeros (bool): Incluir números (por defecto True).\n        - incluir_simbolos (bool): Incluir símbolos especiales (por defecto True).\n        \"\"\"\n        # Inicializar los atributos de la clase con los valores proporcionados\n        \n        self.longitud = longitud\n        self.incluir_mayusculas = incluir_mayusculas\n        self.incluir_minusculas = incluir_minusculas\n        self.incluir_numeros = incluir_numeros\n        self.incluir_simbolos = incluir_simbolos\n\n    @property\n    def caracteres_disponibles(self):\n        \"\"\"\n        Propiedad que devuelve los caracteres disponibles basados en los criterios.\n        \"\"\"\n        # Inicializar la cadena de caracteres vacía\n        caracteres = \"\"\n        # Agregar letras mayúsculas si se incluyen\n        if self.incluir_mayusculas:\n            caracteres += string.ascii_uppercase\n        # Agregar letras minúsculas si se incluyen\n        if self.incluir_minusculas:\n            caracteres += string.ascii_lowercase\n        # Agregar números si se incluyen\n        if self.incluir_numeros:\n            caracteres += string.digits\n        # Agregar símbolos especiales si se incluyen\n        if self.incluir_simbolos:\n            caracteres += string.punctuation\n        # Devolver la cadena de caracteres resultante\n        return caracteres\n\n    def generar_contraseña(self):\n        \"\"\"\n        Método que genera una contraseña segura.\n        \"\"\"\n        # Obtener los caracteres disponibles llamando a la propiedad\n        caracteres_disponibles = self.caracteres_disponibles\n        \n        # Verificar si hay caracteres disponibles para generar la contraseña\n        if caracteres_disponibles:\n            # Generar la contraseña utilizando caracteres disponibles y la longitud deseada\n            contraseña_generada = ''.join(random.choice(caracteres_disponibles) for _ in range(self.longitud))\n            # Devolver la contraseña generada\n            return contraseña_generada\n        else:\n            # En caso de que no haya caracteres disponibles, devolver un mensaje indicando esto\n            return \"No hay caracteres disponibles para generar la contraseña.\"\n\n# Crear una instancia de la clase GeneradorContraseñas\ngenerador_contraseñas = GeneradorContraseñas()\n\n# Generar y mostrar una contraseña segura\ncontraseña_generada = generador_contraseñas.generar_contraseña()\nprint(\"Contraseña generada:\", contraseña_generada)\n",
      "metadata": {
        "trusted": true
      },
      "execution_count": 1,
      "outputs": [
        {
          "name": "stdout",
          "text": "Contraseña generada: iB1c\"Oo2#Hz/\n",
          "output_type": "stream"
        }
      ]
    },
    {
      "cell_type": "code",
      "source": "",
      "metadata": {},
      "execution_count": null,
      "outputs": []
    }
  ]
}